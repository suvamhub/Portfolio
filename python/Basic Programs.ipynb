{
 "cells": [
  {
   "cell_type": "code",
   "execution_count": 7,
   "id": "f3f4a97b",
   "metadata": {},
   "outputs": [
    {
     "name": "stdout",
     "output_type": "stream",
     "text": [
      "Hey Suvam\n"
     ]
    }
   ],
   "source": [
    "print(\"Hey Suvam\")"
   ]
  },
  {
   "cell_type": "code",
   "execution_count": 8,
   "id": "d3829283",
   "metadata": {},
   "outputs": [
    {
     "name": "stdout",
     "output_type": "stream",
     "text": [
      "name\n"
     ]
    }
   ],
   "source": [
    "name=\"Suvam\"\n",
    "age=21\n",
    "print(\"name\")"
   ]
  },
  {
   "cell_type": "code",
   "execution_count": 9,
   "id": "7da8113e",
   "metadata": {},
   "outputs": [
    {
     "name": "stdout",
     "output_type": "stream",
     "text": [
      "Suvam\n"
     ]
    }
   ],
   "source": [
    "name=\"Suvam\"\n",
    "age=21\n",
    "print(name)"
   ]
  },
  {
   "cell_type": "code",
   "execution_count": 10,
   "id": "2df2f909",
   "metadata": {},
   "outputs": [
    {
     "name": "stdout",
     "output_type": "stream",
     "text": [
      "Suvam 21\n"
     ]
    }
   ],
   "source": [
    "name_is =\"Suvam\"\n",
    "age=21\n",
    "print(name_is ,age)\n"
   ]
  },
  {
   "cell_type": "code",
   "execution_count": 11,
   "id": "f74994b3",
   "metadata": {},
   "outputs": [
    {
     "name": "stdout",
     "output_type": "stream",
     "text": [
      "TonyStark\n",
      "55\n",
      "True\n"
     ]
    }
   ],
   "source": [
    "Firstname=\"Tony\"\n",
    "lastname=\"Stark\"\n",
    "Age=55\n",
    "isgenius=True\n",
    "print(Firstname + lastname)\n",
    "print(Age)\n",
    "print(isgenius)\n"
   ]
  },
  {
   "cell_type": "code",
   "execution_count": 12,
   "id": "09cd2d36",
   "metadata": {},
   "outputs": [
    {
     "name": "stdout",
     "output_type": "stream",
     "text": [
      "what is your Superhero name ?Tony Stark\n",
      "My name is Tony\n",
      "Superhero name is Tony Stark\n",
      "Hello Tony Stark\n"
     ]
    }
   ],
   "source": [
    "#Taking Input From User\n",
    "name=\"My name is Tony\"\n",
    "Superhero_name=input(\"what is your Superhero name ?\")\n",
    "print(name)\n",
    "print(\"Superhero name is \" + Superhero_name)  #Concatenation\n",
    "print(\"Hello \" + Superhero_name)"
   ]
  },
  {
   "cell_type": "code",
   "execution_count": 16,
   "id": "c4f7fb42",
   "metadata": {},
   "outputs": [
    {
     "name": "stdout",
     "output_type": "stream",
     "text": [
      "enter your age :21\n",
      "23\n"
     ]
    }
   ],
   "source": [
    "old_age=input(\"enter your age:\")\n",
    "new_age=int(old_age) + 2\n",
    "print(new_age)"
   ]
  },
  {
   "cell_type": "code",
   "execution_count": 1,
   "id": "cc22ec70",
   "metadata": {},
   "outputs": [
    {
     "name": "stdout",
     "output_type": "stream",
     "text": [
      "18.0\n"
     ]
    }
   ],
   "source": [
    "num=18\n",
    "print(float(num))"
   ]
  },
  {
   "cell_type": "code",
   "execution_count": 2,
   "id": "2960cbe4",
   "metadata": {},
   "outputs": [
    {
     "name": "stdout",
     "output_type": "stream",
     "text": [
      "True\n"
     ]
    }
   ],
   "source": [
    "print(bool(num))"
   ]
  },
  {
   "cell_type": "code",
   "execution_count": 14,
   "id": "607fd85b",
   "metadata": {},
   "outputs": [
    {
     "name": "stdout",
     "output_type": "stream",
     "text": [
      "Enter a number8\n",
      "Enter another number6\n",
      "Sum is :14\n"
     ]
    }
   ],
   "source": [
    "#print sum of two numbers\n",
    "A=input(\"Enter a number\")\n",
    "B=input(\"Enter another number\")\n",
    "C=int(A)+int(B)\n",
    "print(\"Sum is :\" + str(C))"
   ]
  },
  {
   "cell_type": "code",
   "execution_count": 23,
   "id": "e713902c",
   "metadata": {},
   "outputs": [
    {
     "name": "stdout",
     "output_type": "stream",
     "text": [
      "SUVAM\n"
     ]
    }
   ],
   "source": [
    "#string #METHODS OF STRINGS\n",
    "name=\"suvam\"\n",
    "print(name.upper())"
   ]
  },
  {
   "cell_type": "code",
   "execution_count": 32,
   "id": "183090c2",
   "metadata": {},
   "outputs": [
    {
     "name": "stdout",
     "output_type": "stream",
     "text": [
      "1\n"
     ]
    }
   ],
   "source": [
    "name=\"sauvam\"\n",
    "print(name.find('a'))"
   ]
  },
  {
   "cell_type": "code",
   "execution_count": 33,
   "id": "55caf1c9",
   "metadata": {},
   "outputs": [
    {
     "name": "stdout",
     "output_type": "stream",
     "text": [
      "Iron Man\n"
     ]
    }
   ],
   "source": [
    "name=\"Tony Stark\"\n",
    "print(name.replace(\"Tony Stark\",\"Iron Man\"))"
   ]
  },
  {
   "cell_type": "code",
   "execution_count": 40,
   "id": "6ca21ed6",
   "metadata": {},
   "outputs": [
    {
     "name": "stdout",
     "output_type": "stream",
     "text": [
      "True False\n"
     ]
    }
   ],
   "source": [
    "#KEYWORDS\n",
    "name=\"suvam\"\n",
    "print('s' in name ,'x' in name)"
   ]
  },
  {
   "cell_type": "code",
   "execution_count": 41,
   "id": "976ceeee",
   "metadata": {},
   "outputs": [
    {
     "name": "stdout",
     "output_type": "stream",
     "text": [
      "True\n"
     ]
    }
   ],
   "source": [
    "name=\"suvam\"\n",
    "print('suv' in name)"
   ]
  },
  {
   "cell_type": "code",
   "execution_count": null,
   "id": "1998716e",
   "metadata": {},
   "outputs": [],
   "source": []
  }
 ],
 "metadata": {
  "kernelspec": {
   "display_name": "Python 3 (ipykernel)",
   "language": "python",
   "name": "python3"
  },
  "language_info": {
   "codemirror_mode": {
    "name": "ipython",
    "version": 3
   },
   "file_extension": ".py",
   "mimetype": "text/x-python",
   "name": "python",
   "nbconvert_exporter": "python",
   "pygments_lexer": "ipython3",
   "version": "3.9.7"
  }
 },
 "nbformat": 4,
 "nbformat_minor": 5
}
