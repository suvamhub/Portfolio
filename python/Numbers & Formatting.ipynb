{
 "cells": [
  {
   "cell_type": "code",
   "execution_count": 1,
   "id": "290cadda",
   "metadata": {},
   "outputs": [
    {
     "data": {
      "text/plain": [
       "6"
      ]
     },
     "execution_count": 1,
     "metadata": {},
     "output_type": "execute_result"
    }
   ],
   "source": [
    "#Addition\n",
    "1+5"
   ]
  },
  {
   "cell_type": "code",
   "execution_count": 2,
   "id": "b107812a",
   "metadata": {},
   "outputs": [
    {
     "data": {
      "text/plain": [
       "-5"
      ]
     },
     "execution_count": 2,
     "metadata": {},
     "output_type": "execute_result"
    }
   ],
   "source": [
    "#subtraction\n",
    "1-6"
   ]
  },
  {
   "cell_type": "code",
   "execution_count": 3,
   "id": "8cbcfacf",
   "metadata": {},
   "outputs": [
    {
     "data": {
      "text/plain": [
       "2"
      ]
     },
     "execution_count": 3,
     "metadata": {},
     "output_type": "execute_result"
    }
   ],
   "source": [
    "7-5"
   ]
  },
  {
   "cell_type": "code",
   "execution_count": 4,
   "id": "ff1de19e",
   "metadata": {},
   "outputs": [
    {
     "data": {
      "text/plain": [
       "27"
      ]
     },
     "execution_count": 4,
     "metadata": {},
     "output_type": "execute_result"
    }
   ],
   "source": [
    "#multiplication\n",
    "3*9"
   ]
  },
  {
   "cell_type": "code",
   "execution_count": 5,
   "id": "81f2c09b",
   "metadata": {},
   "outputs": [
    {
     "data": {
      "text/plain": [
       "9"
      ]
     },
     "execution_count": 5,
     "metadata": {},
     "output_type": "execute_result"
    }
   ],
   "source": [
    "#power\n",
    "3**2"
   ]
  },
  {
   "cell_type": "code",
   "execution_count": 6,
   "id": "9bdf32b0",
   "metadata": {},
   "outputs": [
    {
     "data": {
      "text/plain": [
       "64"
      ]
     },
     "execution_count": 6,
     "metadata": {},
     "output_type": "execute_result"
    }
   ],
   "source": [
    "4**3\n"
   ]
  },
  {
   "cell_type": "code",
   "execution_count": 7,
   "id": "754f10c2",
   "metadata": {},
   "outputs": [
    {
     "data": {
      "text/plain": [
       "2.0"
      ]
     },
     "execution_count": 7,
     "metadata": {},
     "output_type": "execute_result"
    }
   ],
   "source": [
    "4**0.5  # here we got root "
   ]
  },
  {
   "cell_type": "code",
   "execution_count": 8,
   "id": "799ff9d6",
   "metadata": {},
   "outputs": [
    {
     "name": "stdout",
     "output_type": "stream",
     "text": [
      "2.0\n",
      "1\n"
     ]
    }
   ],
   "source": [
    "print(4**(1/2))\n",
    "print(4**(1//2))"
   ]
  },
  {
   "cell_type": "code",
   "execution_count": 9,
   "id": "810be5fd",
   "metadata": {},
   "outputs": [
    {
     "data": {
      "text/plain": [
       "3.0"
      ]
     },
     "execution_count": 9,
     "metadata": {},
     "output_type": "execute_result"
    }
   ],
   "source": [
    "15/5 #Dvision"
   ]
  },
  {
   "cell_type": "code",
   "execution_count": 10,
   "id": "db5d76b1",
   "metadata": {},
   "outputs": [
    {
     "data": {
      "text/plain": [
       "3"
      ]
     },
     "execution_count": 10,
     "metadata": {},
     "output_type": "execute_result"
    }
   ],
   "source": [
    "15//5 #Floor division"
   ]
  },
  {
   "cell_type": "code",
   "execution_count": 11,
   "id": "8f9595fe",
   "metadata": {},
   "outputs": [
    {
     "data": {
      "text/plain": [
       "0.875"
      ]
     },
     "execution_count": 11,
     "metadata": {},
     "output_type": "execute_result"
    }
   ],
   "source": [
    "7//8\n",
    "7/8"
   ]
  },
  {
   "cell_type": "code",
   "execution_count": 12,
   "id": "af017554",
   "metadata": {},
   "outputs": [
    {
     "name": "stdout",
     "output_type": "stream",
     "text": [
      "0\n",
      "0.875\n"
     ]
    }
   ],
   "source": [
    "print(7//8)\n",
    "print(7/8)"
   ]
  },
  {
   "cell_type": "code",
   "execution_count": 13,
   "id": "1799e73c",
   "metadata": {},
   "outputs": [
    {
     "data": {
      "text/plain": [
       "1"
      ]
     },
     "execution_count": 13,
     "metadata": {},
     "output_type": "execute_result"
    }
   ],
   "source": [
    "9%2"
   ]
  },
  {
   "cell_type": "code",
   "execution_count": 14,
   "id": "624dfb87",
   "metadata": {},
   "outputs": [
    {
     "name": "stdout",
     "output_type": "stream",
     "text": [
      "14\n",
      "22\n"
     ]
    }
   ],
   "source": [
    "#order of operations\n",
    "print(2*3+8)\n",
    "print(2*(3+8))"
   ]
  },
  {
   "cell_type": "code",
   "execution_count": 15,
   "id": "c5caefed",
   "metadata": {},
   "outputs": [
    {
     "name": "stdout",
     "output_type": "stream",
     "text": [
      "9\n"
     ]
    }
   ],
   "source": [
    "print(4//4*9)"
   ]
  },
  {
   "cell_type": "code",
   "execution_count": 16,
   "id": "371421c9",
   "metadata": {},
   "outputs": [
    {
     "name": "stdout",
     "output_type": "stream",
     "text": [
      "12\n"
     ]
    }
   ],
   "source": [
    "print(8+9-5)"
   ]
  },
  {
   "cell_type": "code",
   "execution_count": 17,
   "id": "81bd7912",
   "metadata": {},
   "outputs": [
    {
     "data": {
      "text/plain": [
       "40"
      ]
     },
     "execution_count": 17,
     "metadata": {},
     "output_type": "execute_result"
    }
   ],
   "source": [
    "a=8\n",
    "b=5\n",
    "c=a*b\n",
    "c"
   ]
  },
  {
   "cell_type": "code",
   "execution_count": 18,
   "id": "52b2cfac",
   "metadata": {},
   "outputs": [],
   "source": [
    "a=5\n"
   ]
  },
  {
   "cell_type": "code",
   "execution_count": 19,
   "id": "8027bfba",
   "metadata": {},
   "outputs": [
    {
     "data": {
      "text/plain": [
       "5"
      ]
     },
     "execution_count": 19,
     "metadata": {},
     "output_type": "execute_result"
    }
   ],
   "source": [
    "a"
   ]
  },
  {
   "cell_type": "code",
   "execution_count": 20,
   "id": "9a4d074a",
   "metadata": {},
   "outputs": [
    {
     "data": {
      "text/plain": [
       "25"
      ]
     },
     "execution_count": 20,
     "metadata": {},
     "output_type": "execute_result"
    }
   ],
   "source": [
    "c=a*b\n",
    "c"
   ]
  },
  {
   "cell_type": "code",
   "execution_count": 21,
   "id": "eb9ab2a5",
   "metadata": {},
   "outputs": [
    {
     "name": "stdout",
     "output_type": "stream",
     "text": [
      "Enter Total Mark:900\n",
      "Enter Your Mark:800\n",
      "Percentage= 88.88888888888889\n"
     ]
    }
   ],
   "source": [
    "Total_Mark=input(\"Enter Total Mark:\")\n",
    "Secured_Mark=input(\"Enter Your Mark:\")\n",
    "Percentage=(int(Secured_Mark)/int(Total_Mark))*100\n",
    "print(\"Percentage=\",Percentage)"
   ]
  },
  {
   "cell_type": "markdown",
   "id": "18d18a0a",
   "metadata": {},
   "source": [
    "# Formatting"
   ]
  },
  {
   "cell_type": "code",
   "execution_count": 22,
   "id": "40417d1a",
   "metadata": {},
   "outputs": [
    {
     "name": "stdout",
     "output_type": "stream",
     "text": [
      "my name is suvendu mahapatra\n"
     ]
    }
   ],
   "source": [
    "print(\"my name %s suvendu mahapatra\" %'is') #%s inject strings and '%' is called string formatting operator"
   ]
  },
  {
   "cell_type": "code",
   "execution_count": 23,
   "id": "4b7e7e47",
   "metadata": {},
   "outputs": [
    {
     "name": "stdout",
     "output_type": "stream",
     "text": [
      "my name is suvendu mahapatra\n"
     ]
    }
   ],
   "source": [
    "print(\"%s name is suvendu maha%s\" %('my','patra'))"
   ]
  },
  {
   "cell_type": "code",
   "execution_count": 24,
   "id": "f5c18274",
   "metadata": {},
   "outputs": [
    {
     "name": "stdout",
     "output_type": "stream",
     "text": [
      "my name is suvendu mahapatra\n"
     ]
    }
   ],
   "source": [
    "x,y=('name','mahapatra')\n",
    "print(\"my %s is suvendu %s\" %(x,y))"
   ]
  },
  {
   "cell_type": "code",
   "execution_count": 25,
   "id": "054995e3",
   "metadata": {},
   "outputs": [
    {
     "name": "stdout",
     "output_type": "stream",
     "text": [
      "my 'name' is suvendu 'mahapatra'\n",
      "my name is suvendu\tmahapatra \n",
      "my name is 'suvendu\\tmahapatra' \n"
     ]
    }
   ],
   "source": [
    "x,y=('name','mahapatra')\n",
    "print(\"my %r is suvendu %r\" %(x,y))  #%r gives String representaion of the object\n",
    "print('my name is %s ' %'suvendu\\tmahapatra')\n",
    "print('my name is %r ' %'suvendu\\tmahapatra')"
   ]
  },
  {
   "cell_type": "code",
   "execution_count": 26,
   "id": "202b7a56",
   "metadata": {},
   "outputs": [
    {
     "name": "stdout",
     "output_type": "stream",
     "text": [
      "i got 9.5 mark in surprise test\n",
      "i got 9 mark in surprise test\n"
     ]
    }
   ],
   "source": [
    "print('i got %s mark in surprise test' %9.5)  #%s print the string as usual\n",
    "print('i got %d mark in surprise test' %9.8)  #%d print the the string by converting it into integer"
   ]
  },
  {
   "cell_type": "markdown",
   "id": "e5ab05e8",
   "metadata": {},
   "source": [
    "# padding and precision of floating point numbers"
   ]
  },
  {
   "cell_type": "code",
   "execution_count": 27,
   "id": "f1b3ea13",
   "metadata": {},
   "outputs": [
    {
     "name": "stdout",
     "output_type": "stream",
     "text": [
      "i secured 82.600 percentage in my final exam\n"
     ]
    }
   ],
   "source": [
    "print('i secured %5.3f percentage in my final exam' %82.6)  #%x.yf (x shows that string should contain minimum x no. of numbers)"
   ]
  },
  {
   "cell_type": "code",
   "execution_count": 28,
   "id": "4d6fe31b",
   "metadata": {},
   "outputs": [
    {
     "name": "stdout",
     "output_type": "stream",
     "text": [
      "i secured 82.60000 percentage in my final exam\n"
     ]
    }
   ],
   "source": [
    "print('i secured %3.5f percentage in my final exam' %82.6)   #y shows that y no. of numbers will be present aftter decimal point"
   ]
  },
  {
   "cell_type": "code",
   "execution_count": 29,
   "id": "6ca1f289",
   "metadata": {},
   "outputs": [
    {
     "name": "stdout",
     "output_type": "stream",
     "text": [
      "i secured        83 percentage in my final exam\n"
     ]
    }
   ],
   "source": [
    "print('i secured %9.0f percentage in my final exam' %82.6)  #if x is very large then remaining number will be replecd with whitespaces"
   ]
  },
  {
   "cell_type": "code",
   "execution_count": 30,
   "id": "8c4bcfb4",
   "metadata": {},
   "outputs": [
    {
     "name": "stdout",
     "output_type": "stream",
     "text": [
      "i secured                  82.6000000000 percentage in my final exam\n"
     ]
    }
   ],
   "source": [
    "print('i secured %30.10f percentage in my final exam' %82.6)"
   ]
  },
  {
   "cell_type": "code",
   "execution_count": 31,
   "id": "b7896405",
   "metadata": {},
   "outputs": [
    {
     "ename": "TypeError",
     "evalue": "must be real number, not str",
     "output_type": "error",
     "traceback": [
      "\u001b[1;31m---------------------------------------------------------------------------\u001b[0m",
      "\u001b[1;31mTypeError\u001b[0m                                 Traceback (most recent call last)",
      "\u001b[1;32mC:\\Windows\\TEMP/ipykernel_39436/195515502.py\u001b[0m in \u001b[0;36m<module>\u001b[1;34m\u001b[0m\n\u001b[1;32m----> 1\u001b[1;33m \u001b[0mprint\u001b[0m\u001b[1;33m(\u001b[0m\u001b[1;34m'%s my name is %r and i got %2.2f marks'\u001b[0m \u001b[1;33m%\u001b[0m\u001b[1;33m(\u001b[0m\u001b[1;34m'hi!'\u001b[0m\u001b[1;33m,\u001b[0m\u001b[1;34m'suvendu'\u001b[0m\u001b[1;33m,\u001b[0m\u001b[1;34m'86.5833'\u001b[0m\u001b[1;33m)\u001b[0m\u001b[1;33m)\u001b[0m \u001b[1;31m#we can use it  multiple times\u001b[0m\u001b[1;33m\u001b[0m\u001b[1;33m\u001b[0m\u001b[0m\n\u001b[0m",
      "\u001b[1;31mTypeError\u001b[0m: must be real number, not str"
     ]
    }
   ],
   "source": [
    "print('%s my name is %r and i got %2.2f marks' %('hi!','suvendu','86.5833')) #we can use it  multiple times "
   ]
  },
  {
   "cell_type": "code",
   "execution_count": 32,
   "id": "a08e55de",
   "metadata": {},
   "outputs": [
    {
     "name": "stdout",
     "output_type": "stream",
     "text": [
      "hi! my name is 'suvendu' and i got 86.58 marks\n"
     ]
    }
   ],
   "source": [
    "print('%s my name is %r and i got %2.2f marks' %('hi!','suvendu',86.5833))  "
   ]
  },
  {
   "cell_type": "markdown",
   "id": "cd171035",
   "metadata": {},
   "source": [
    "# using .format() method"
   ]
  },
  {
   "cell_type": "code",
   "execution_count": 33,
   "id": "4544758b",
   "metadata": {},
   "outputs": [
    {
     "name": "stdout",
     "output_type": "stream",
     "text": [
      "my name is suvendu\n"
     ]
    }
   ],
   "source": [
    "print('my name is {}' .format('suvendu'))"
   ]
  },
  {
   "cell_type": "code",
   "execution_count": 34,
   "id": "6d865cdc",
   "metadata": {},
   "outputs": [
    {
     "name": "stdout",
     "output_type": "stream",
     "text": [
      "hi! my name is suvendu and i got 8.86 marks\n",
      "suvam:95%, khsuhi:98%\n",
      "my name is suvam and his name is also suvam\n"
     ]
    }
   ],
   "source": [
    "#Advantanges over %s\n",
    "print('{1} my name is {2} and i got {0} marks' .format(\"8.86\",'hi!','suvendu'))  \n",
    "print('suvam:{a}, khsuhi:{b}' .format(a='95%',b='98%'))\n",
    "print('my name is {s} and his name is also {s}' .format(s='suvam'))"
   ]
  },
  {
   "cell_type": "code",
   "execution_count": 35,
   "id": "8b06c601",
   "metadata": {},
   "outputs": [
    {
     "name": "stdout",
     "output_type": "stream",
     "text": [
      "Orange                    | Apple\n"
     ]
    }
   ],
   "source": [
    "print('{1:25} | {0:5}' .format('Apple','Orange') )  #{x:y}- x shows index and y shows minimum places"
   ]
  },
  {
   "cell_type": "code",
   "execution_count": 36,
   "id": "96aee359",
   "metadata": {},
   "outputs": [
    {
     "name": "stdout",
     "output_type": "stream",
     "text": [
      "Name  |Mark  \n",
      "suvam |    95\n",
      "khushi|    99\n"
     ]
    }
   ],
   "source": [
    "print('{0:6}|{1:6}'.format('Name','Mark'))\n",
    "print('{0:6}|{1:6}'.format('suvam',95))   #it prints the numbers in right side always\n",
    "print('{0:6}|{1:6}'.format('khushi',99))"
   ]
  },
  {
   "cell_type": "code",
   "execution_count": 37,
   "id": "82c5a43f",
   "metadata": {},
   "outputs": [
    {
     "name": "stdout",
     "output_type": "stream",
     "text": [
      "Name  |Mark  \n",
      "suvam |95    \n",
      "khushi|  99  \n"
     ]
    }
   ],
   "source": [
    "print('{0:6}|{1:6}'.format('Name','Mark'))  \n",
    "print('{0:6}|{1:<6}'.format('suvam',95))     #<(Left) , ^(Center) ,>(Right)\n",
    "print('{0:6}|{1:^6}'.format('khushi',99))   "
   ]
  },
  {
   "cell_type": "code",
   "execution_count": 38,
   "id": "6f751c3c",
   "metadata": {},
   "outputs": [
    {
     "name": "stdout",
     "output_type": "stream",
     "text": [
      "left=====|-center--|====right\n",
      "5========|----6----|========7\n",
      "2========|----3----|========4\n"
     ]
    }
   ],
   "source": [
    "print('{0:=<9}|{1:-^9}|{2:=>9}'.format('left','center','right'))\n",
    "print('{0:=<9}|{1:-^9}|{2:=>9}'.format('5','6','7'))\n",
    "print('{0:=<9}|{1:-^9}|{2:=>9}'.format('2','3','4'))"
   ]
  },
  {
   "cell_type": "code",
   "execution_count": 39,
   "id": "ae7ebcf8",
   "metadata": {},
   "outputs": [
    {
     "name": "stdout",
     "output_type": "stream",
     "text": [
      "i got  86.90 marks in my exam\n",
      "i got  86.90 marks in my exam\n"
     ]
    }
   ],
   "source": [
    "print('i got %6.2f marks in my exam' %86.9)\n",
    "print('i got {0:6.2f} marks in my exam'.format(86.9))"
   ]
  },
  {
   "cell_type": "markdown",
   "id": "d071013c",
   "metadata": {},
   "source": [
    "# formatted string literals(f-strings)"
   ]
  },
  {
   "cell_type": "code",
   "execution_count": 40,
   "id": "f8a87fea",
   "metadata": {},
   "outputs": [
    {
     "name": "stdout",
     "output_type": "stream",
     "text": [
      "my name is suvam\n",
      "my name is 'suvam'\n"
     ]
    }
   ],
   "source": [
    "name=\"suvam\"\n",
    "print(f'my name is {name}')\n",
    "print(f'my name is {name!r}') #to get string representation"
   ]
  },
  {
   "cell_type": "code",
   "execution_count": 41,
   "id": "9acf419b",
   "metadata": {},
   "outputs": [
    {
     "name": "stdout",
     "output_type": "stream",
     "text": [
      "number is:    98.500\n",
      "number is:      98.5\n"
     ]
    }
   ],
   "source": [
    "num=98.5\n",
    "print('number is:{0:10.3f}'.format(num))\n",
    "print(f'number is:{num:{10}.{5}}')"
   ]
  },
  {
   "cell_type": "code",
   "execution_count": 42,
   "id": "68d69bbf",
   "metadata": {},
   "outputs": [
    {
     "name": "stdout",
     "output_type": "stream",
     "text": [
      "number is: 98.5600\n",
      "number is: 98.5600\n"
     ]
    }
   ],
   "source": [
    "num=98.56\n",
    "print('number is:{0:8.4f}'.format(num))\n",
    "print(f'number is:{num:8.4f}')"
   ]
  },
  {
   "cell_type": "code",
   "execution_count": null,
   "id": "c3dad8cb",
   "metadata": {},
   "outputs": [],
   "source": []
  },
  {
   "cell_type": "code",
   "execution_count": null,
   "id": "1df88ba3",
   "metadata": {},
   "outputs": [],
   "source": []
  },
  {
   "cell_type": "code",
   "execution_count": null,
   "id": "e68f1554",
   "metadata": {},
   "outputs": [],
   "source": []
  }
 ],
 "metadata": {
  "kernelspec": {
   "display_name": "Python 3 (ipykernel)",
   "language": "python",
   "name": "python3"
  },
  "language_info": {
   "codemirror_mode": {
    "name": "ipython",
    "version": 3
   },
   "file_extension": ".py",
   "mimetype": "text/x-python",
   "name": "python",
   "nbconvert_exporter": "python",
   "pygments_lexer": "ipython3",
   "version": "3.9.7"
  }
 },
 "nbformat": 4,
 "nbformat_minor": 5
}
