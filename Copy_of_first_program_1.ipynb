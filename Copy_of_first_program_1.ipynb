{
  "cells": [
    {
      "cell_type": "markdown",
      "metadata": {
        "id": "view-in-github",
        "colab_type": "text"
      },
      "source": [
        "<a href=\"https://colab.research.google.com/github/suvamhub/suvam/blob/main/Copy_of_first_program_1.ipynb\" target=\"_parent\"><img src=\"https://colab.research.google.com/assets/colab-badge.svg\" alt=\"Open In Colab\"/></a>"
      ]
    },
    {
      "cell_type": "code",
      "execution_count": null,
      "id": "ebd31046",
      "metadata": {
        "id": "ebd31046",
        "outputId": "32edef8e-3e85-4add-a0ed-af1e69355216"
      },
      "outputs": [
        {
          "name": "stdout",
          "output_type": "stream",
          "text": [
            "C:\\Users\\ASUS\\anaconda3\\envs\\Python\n"
          ]
        }
      ],
      "source": [
        "import os\n",
        "print(os.getcwd())\n"
      ]
    },
    {
      "cell_type": "code",
      "execution_count": null,
      "id": "79b884aa",
      "metadata": {
        "id": "79b884aa",
        "colab": {
          "base_uri": "https://localhost:8080/"
        },
        "outputId": "de07cef6-d2fe-4f34-c3d7-e59c6f99ee68"
      },
      "outputs": [
        {
          "output_type": "stream",
          "name": "stdout",
          "text": [
            "Suvam\n"
          ]
        }
      ],
      "source": [
        "print(\"Suvam\")"
      ]
    },
    {
      "cell_type": "code",
      "source": [
        "age=21\n",
        "print(age)"
      ],
      "metadata": {
        "id": "AnPSl4l9JcVu",
        "outputId": "a68178cc-cd2c-4d9d-888b-58315d0a56db",
        "colab": {
          "base_uri": "https://localhost:8080/"
        }
      },
      "id": "AnPSl4l9JcVu",
      "execution_count": null,
      "outputs": [
        {
          "output_type": "stream",
          "name": "stdout",
          "text": [
            "21\n"
          ]
        }
      ]
    },
    {
      "cell_type": "code",
      "source": [
        ""
      ],
      "metadata": {
        "id": "S-dTer_bKBaN"
      },
      "id": "S-dTer_bKBaN",
      "execution_count": null,
      "outputs": []
    }
  ],
  "metadata": {
    "kernelspec": {
      "display_name": "Python 3 (ipykernel)",
      "language": "python",
      "name": "python3"
    },
    "language_info": {
      "codemirror_mode": {
        "name": "ipython",
        "version": 3
      },
      "file_extension": ".py",
      "mimetype": "text/x-python",
      "name": "python",
      "nbconvert_exporter": "python",
      "pygments_lexer": "ipython3",
      "version": "3.9.7"
    },
    "colab": {
      "name": "Copy of  first program 1.ipynb",
      "provenance": [],
      "include_colab_link": true
    },
    "accelerator": "GPU"
  },
  "nbformat": 4,
  "nbformat_minor": 5
}